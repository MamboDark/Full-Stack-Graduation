{
  "nbformat": 4,
  "nbformat_minor": 0,
  "metadata": {
    "colab": {
      "provenance": [],
      "authorship_tag": "ABX9TyNstfsFZe19RGT841aoeh/O",
      "include_colab_link": true
    },
    "kernelspec": {
      "name": "python3",
      "display_name": "Python 3"
    },
    "language_info": {
      "name": "python"
    }
  },
  "cells": [
    {
      "cell_type": "markdown",
      "metadata": {
        "id": "view-in-github",
        "colab_type": "text"
      },
      "source": [
        "<a href=\"https://colab.research.google.com/github/MamboDark/Full-Stack-Graduation/blob/main/MISS%C3%83O_NIVEL_5_MATRICULA_202208353568.ipynb\" target=\"_parent\"><img src=\"https://colab.research.google.com/assets/colab-badge.svg\" alt=\"Open In Colab\"/></a>"
      ]
    },
    {
      "cell_type": "markdown",
      "source": [
        "INSTALE AS FERRAMENTAS NECESSÁRIAS"
      ],
      "metadata": {
        "id": "SE8wMQKqc0-P"
      }
    },
    {
      "cell_type": "code",
      "execution_count": 18,
      "metadata": {
        "id": "MqFphrI5D6MB",
        "colab": {
          "base_uri": "https://localhost:8080/"
        },
        "outputId": "3c99b983-eaba-4d9d-94af-3d8a7b7dc450"
      },
      "outputs": [
        {
          "output_type": "stream",
          "name": "stdout",
          "text": [
            "Looking in indexes: https://pypi.org/simple, https://us-python.pkg.dev/colab-wheels/public/simple/\n",
            "Requirement already satisfied: wordcloud in /usr/local/lib/python3.7/dist-packages (1.8.2.2)\n",
            "Requirement already satisfied: matplotlib in /usr/local/lib/python3.7/dist-packages (from wordcloud) (3.2.2)\n",
            "Requirement already satisfied: numpy>=1.6.1 in /usr/local/lib/python3.7/dist-packages (from wordcloud) (1.21.6)\n",
            "Requirement already satisfied: pillow in /usr/local/lib/python3.7/dist-packages (from wordcloud) (7.1.2)\n",
            "Requirement already satisfied: kiwisolver>=1.0.1 in /usr/local/lib/python3.7/dist-packages (from matplotlib->wordcloud) (1.4.4)\n",
            "Requirement already satisfied: pyparsing!=2.0.4,!=2.1.2,!=2.1.6,>=2.0.1 in /usr/local/lib/python3.7/dist-packages (from matplotlib->wordcloud) (3.0.9)\n",
            "Requirement already satisfied: python-dateutil>=2.1 in /usr/local/lib/python3.7/dist-packages (from matplotlib->wordcloud) (2.8.2)\n",
            "Requirement already satisfied: cycler>=0.10 in /usr/local/lib/python3.7/dist-packages (from matplotlib->wordcloud) (0.11.0)\n",
            "Requirement already satisfied: typing-extensions in /usr/local/lib/python3.7/dist-packages (from kiwisolver>=1.0.1->matplotlib->wordcloud) (4.1.1)\n",
            "Requirement already satisfied: six>=1.5 in /usr/local/lib/python3.7/dist-packages (from python-dateutil>=2.1->matplotlib->wordcloud) (1.15.0)\n",
            "Looking in indexes: https://pypi.org/simple, https://us-python.pkg.dev/colab-wheels/public/simple/\n",
            "Requirement already satisfied: Faker in /usr/local/lib/python3.7/dist-packages (15.3.3)\n",
            "Requirement already satisfied: typing-extensions>=3.10.0.1 in /usr/local/lib/python3.7/dist-packages (from Faker) (4.1.1)\n",
            "Requirement already satisfied: python-dateutil>=2.4 in /usr/local/lib/python3.7/dist-packages (from Faker) (2.8.2)\n",
            "Requirement already satisfied: six>=1.5 in /usr/local/lib/python3.7/dist-packages (from python-dateutil>=2.4->Faker) (1.15.0)\n",
            "Looking in indexes: https://pypi.org/simple, https://us-python.pkg.dev/colab-wheels/public/simple/\n",
            "Requirement already satisfied: num2words in /usr/local/lib/python3.7/dist-packages (0.5.12)\n",
            "Requirement already satisfied: docopt>=0.6.2 in /usr/local/lib/python3.7/dist-packages (from num2words) (0.6.2)\n"
          ]
        }
      ],
      "source": [
        "!pip install wordcloud\n",
        "!pip install Faker\n",
        "!pip install num2words"
      ]
    },
    {
      "cell_type": "markdown",
      "source": [
        "IMPORTE A BIBLIOTECA NECESSÁRIA"
      ],
      "metadata": {
        "id": "OOyDHMeYc7es"
      }
    },
    {
      "cell_type": "code",
      "source": [
        "import os\n",
        "from faker import Faker\n",
        "from num2words import num2words\n",
        "import random\n",
        "from wordcloud import WordCloud\n",
        "import matplotlib.pyplot as plt"
      ],
      "metadata": {
        "id": "vPRoewXjD_7p"
      },
      "execution_count": 70,
      "outputs": []
    },
    {
      "cell_type": "markdown",
      "source": [
        "PODE GERAR AS LISTAS AQUI:"
      ],
      "metadata": {
        "id": "awz0VGsidMI0"
      }
    },
    {
      "cell_type": "code",
      "source": [
        "\n",
        "fk = Faker()\n",
        "lista_com_nomes = []\n",
        "lista_com_as_notas = []\n",
        "\n",
        "for i in range(15): \n",
        "  name = fk.first_name()\n",
        "  if name in lista_com_nomes:\n",
        "    name = fk.first_name()\n",
        "  rand = random.randint(0, 9+1)\n",
        "  print(fk.first_name(),\":\",rand)\n",
        "  lista_com_nomes.append(name)\n",
        "  lista_com_as_notas.append(str(rand))\n",
        "\n",
        "nome_nota = lista_com_nomes + lista_com_as_notas"
      ],
      "metadata": {
        "id": "kgreAuiTEBi4"
      },
      "execution_count": null,
      "outputs": []
    },
    {
      "cell_type": "markdown",
      "source": [
        "AQUI VOCÊ IRA GERAR A LISTA DE NOMES E NOTAS:"
      ],
      "metadata": {
        "id": "Rqjj2x9fdVt4"
      }
    },
    {
      "cell_type": "code",
      "source": [
        "with open(\"nome_e_nota.txt\", \"a\") as output:\n",
        "    output.writelines(','.join(nome_nota))"
      ],
      "metadata": {
        "id": "WqIMrwfKRFTM"
      },
      "execution_count": 72,
      "outputs": []
    },
    {
      "cell_type": "markdown",
      "source": [
        "ABRA AQUI AS LISTAS:"
      ],
      "metadata": {
        "id": "iFgCO7LVdjK8"
      }
    },
    {
      "cell_type": "code",
      "source": [
        "arquivo = open('nome_e_nota.txt')\n",
        "arquivo = arquivo.readline()\n",
        "output=arquivo.split(',')\n",
        "nomes = output[0:15]\n",
        "notas = [int(item) for item in (output[15:31])]"
      ],
      "metadata": {
        "id": "-6nf2xrsEEL4"
      },
      "execution_count": 73,
      "outputs": []
    },
    {
      "cell_type": "markdown",
      "source": [
        "PLOTE AQUI O HISTOGRAMA DAS NOTAS:"
      ],
      "metadata": {
        "id": "XL9zTlyrdmR4"
      }
    },
    {
      "cell_type": "code",
      "source": [
        "plt.title('Histograma das Notas', fontsize=30)\n",
        "print ('\\n')\n",
        "plt.xlabel('Notas')\n",
        "plt.ylabel('Quantidade de Notas')\n",
        "plt.hist(notas, 5, rwidth=1)\n",
        "plt.show()\n",
        "print ('\\n')\n",
        "\n",
        "all_num = [ (num2words(n, lang='pt-br')) for n in notas]\n",
        "all_summary = ','.join([n for n in all_num])\n",
        "wordcloud = WordCloud(background_color=\"blue\",width=500,height=200).generate(all_summary)\n",
        "fig, ax = plt.subplots(figsize=(15,10))\n",
        "ax.imshow(wordcloud, interpolation='bilinear')\n",
        "ax.set_axis_off()\n",
        "plt.imshow(wordcloud);\n",
        "os.remove(\"/content/nome_e_nota.txt\")"
      ],
      "metadata": {
        "id": "qjnWJ-UlEFcK"
      },
      "execution_count": null,
      "outputs": []
    }
  ]
}